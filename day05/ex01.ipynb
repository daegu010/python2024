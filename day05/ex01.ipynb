{
 "cells": [
  {
   "cell_type": "code",
   "execution_count": 6,
   "metadata": {},
   "outputs": [
    {
     "name": "stdout",
     "output_type": "stream",
     "text": [
      "hello 13 hello 13\n",
      "hello 13 hi 13\n",
      "5\n"
     ]
    }
   ],
   "source": [
    "class Cl01:\n",
    "    def __init__(self):\n",
    "        self.msg=\"hello\"\n",
    "        self.age=13\n",
    "    def getMsg(self):\n",
    "        return self.msg\n",
    "    def lenMsg(self):\n",
    "        return len(self.msg)\n",
    "\n",
    "a=Cl01()\n",
    "b=Cl01()\n",
    "print(a.getMsg(),a.age,b.msg,b.age)\n",
    "b.msg='hi'\n",
    "print(a.msg,a.age,b.msg,b.age)\n",
    "print(a.lenMsg())"
   ]
  },
  {
   "cell_type": "code",
   "execution_count": 40,
   "metadata": {},
   "outputs": [
    {
     "name": "stdout",
     "output_type": "stream",
     "text": [
      "12\n"
     ]
    }
   ],
   "source": [
    "class Cl02():\n",
    "    def __init__(self,num):\n",
    "        self.__num=num\n",
    "    def getNum(self):\n",
    "        return self.__num\n",
    "\n",
    "a=Cl02(12)\n",
    "# print(a.__num)\n",
    "# a.__num=3\n",
    "# print(a.__num)\n",
    "print(a.getNum())"
   ]
  },
  {
   "cell_type": "code",
   "execution_count": 33,
   "metadata": {},
   "outputs": [
    {
     "name": "stdout",
     "output_type": "stream",
     "text": [
      "10000000000 <class 'int'>\n"
     ]
    }
   ],
   "source": [
    "b=10_000_000_000\n",
    "print(b,type(b))"
   ]
  },
  {
   "cell_type": "code",
   "execution_count": 37,
   "metadata": {},
   "outputs": [
    {
     "name": "stdout",
     "output_type": "stream",
     "text": [
      "2 6\n"
     ]
    }
   ],
   "source": [
    "a,_,b=[2,4,6]\n",
    "print(a,b)\n",
    "del _"
   ]
  },
  {
   "cell_type": "code",
   "execution_count": 57,
   "metadata": {},
   "outputs": [
    {
     "name": "stdout",
     "output_type": "stream",
     "text": [
      "[]\n",
      "['item1']\n",
      "['item1', 'item2']\n",
      "['item1', 'item2']\n"
     ]
    }
   ],
   "source": [
    "arr=[]\n",
    "class Cl03:\n",
    "    __arr=[]              \n",
    "    def add(self,a):\n",
    "        Cl03.arr.append(a)\n",
    "\n",
    "    @staticmethod       # 함수 위치 클래스내부로\n",
    "    def add2(a):        # 그룹에 의미를 지님\n",
    "        Cl03.arr.append(a)\n",
    "    \n",
    "    @classmethod        # class변수에 접근하기위한\n",
    "    def add3(cls,a):\n",
    "        cls.__arr.append(a)\n",
    "\n",
    "    @classmethod\n",
    "    def getArr(cls):\n",
    "        return cls.__arr\n",
    "\n",
    "a=Cl03()\n",
    "print(Cl03.getArr())\n",
    "Cl03.add3(\"item1\")\n",
    "print(Cl03.getArr())\n",
    "Cl03.add3('item2')\n",
    "print(Cl03.getArr())\n",
    "b=Cl03()\n",
    "print(Cl03.getArr())\n"
   ]
  },
  {
   "cell_type": "code",
   "execution_count": 82,
   "metadata": {},
   "outputs": [
    {
     "name": "stdout",
     "output_type": "stream",
     "text": [
      "부모 생성자 호출\n",
      "[a][bc][defg]\n"
     ]
    }
   ],
   "source": [
    "class Cl06:\n",
    "    def __init__(self,a):\n",
    "        print('부모 생성자 호출')\n",
    "        self.msg=str(a)\n",
    "    def add(self,a):\n",
    "        self.msg+=str(a)\n",
    "\n",
    "class Cl04(Cl06):\n",
    "    def __init__(self):\n",
    "        super().__init__(\"@@@\")\n",
    "    def pnt(self):\n",
    "        print(self.msg)\n",
    "        \n",
    "class Cl05(Cl06):\n",
    "    def __init__(self):\n",
    "        super().__init__(\"\")\n",
    "\n",
    "    def add(self,a):\n",
    "        # self.msg+=f\"{{{a}}}\"\n",
    "        self.msg+=\"[\"\n",
    "        super().add(a)\n",
    "        self.msg+=\"]\"\n",
    "\n",
    "    def pnt(self):\n",
    "        print(self.msg)\n",
    "\n",
    "\n",
    "a=Cl05()\n",
    "a.add(\"a\")\n",
    "a.add(\"bc\")\n",
    "a.add(\"defg\")\n",
    "a.pnt()\n"
   ]
  },
  {
   "cell_type": "code",
   "execution_count": 64,
   "metadata": {},
   "outputs": [
    {
     "data": {
      "text/plain": [
       "['__class__',\n",
       " '__delattr__',\n",
       " '__dict__',\n",
       " '__dir__',\n",
       " '__doc__',\n",
       " '__eq__',\n",
       " '__format__',\n",
       " '__ge__',\n",
       " '__getattribute__',\n",
       " '__getstate__',\n",
       " '__gt__',\n",
       " '__hash__',\n",
       " '__init__',\n",
       " '__init_subclass__',\n",
       " '__le__',\n",
       " '__lt__',\n",
       " '__module__',\n",
       " '__ne__',\n",
       " '__new__',\n",
       " '__reduce__',\n",
       " '__reduce_ex__',\n",
       " '__repr__',\n",
       " '__setattr__',\n",
       " '__sizeof__',\n",
       " '__str__',\n",
       " '__subclasshook__',\n",
       " '__weakref__',\n",
       " 'add',\n",
       " 'pnt']"
      ]
     },
     "execution_count": 64,
     "metadata": {},
     "output_type": "execute_result"
    }
   ],
   "source": [
    "dir(Cl04)"
   ]
  },
  {
   "cell_type": "code",
   "execution_count": 112,
   "metadata": {},
   "outputs": [
    {
     "name": "stdout",
     "output_type": "stream",
     "text": [
      "처리 err\n",
      "종료합니다\n"
     ]
    }
   ],
   "source": [
    "a=11\n",
    "b=1\n",
    "try:\n",
    "    c=a/b\n",
    "    raise Exception('err')\n",
    "except ZeroDivisionError as e:\n",
    "    print('에러가 발생',e)\n",
    "    c=0\n",
    "except TypeError:\n",
    "    b=int(b)\n",
    "    c=a/b\n",
    "except Exception as e:\n",
    "    print('처리',e)\n",
    "else:\n",
    "    print(c)\n",
    "finally:\n",
    "    print(\"종료합니다\")"
   ]
  },
  {
   "cell_type": "code",
   "execution_count": 1,
   "metadata": {},
   "outputs": [
    {
     "name": "stdout",
     "output_type": "stream",
     "text": [
      "hello ex02\n"
     ]
    }
   ],
   "source": [
    "import ex02\n",
    "ex02.func01()"
   ]
  },
  {
   "cell_type": "code",
   "execution_count": 2,
   "metadata": {},
   "outputs": [],
   "source": [
    "import ex02"
   ]
  },
  {
   "cell_type": "code",
   "execution_count": 3,
   "metadata": {},
   "outputs": [
    {
     "name": "stdout",
     "output_type": "stream",
     "text": [
      "hello ex02\n"
     ]
    }
   ],
   "source": [
    "ex02.func01()"
   ]
  },
  {
   "cell_type": "code",
   "execution_count": 5,
   "metadata": {},
   "outputs": [
    {
     "name": "stdout",
     "output_type": "stream",
     "text": [
      "1234 3.14 ['문자열']\n",
      "ex03의 func02실행\n",
      "인스턴스의 기능 실행\n"
     ]
    }
   ],
   "source": [
    "import ex03 as f3\n",
    "print(f3.a,f3.b,f3.c)\n",
    "f3.func02()\n",
    "d=f3.Cl01()\n",
    "d.func01()"
   ]
  },
  {
   "cell_type": "code",
   "execution_count": 1,
   "metadata": {},
   "outputs": [
    {
     "name": "stdout",
     "output_type": "stream",
     "text": [
      "1234\n",
      "3.14\n",
      "['문자열']\n",
      "ex03의 func02실행\n",
      "인스턴스의 기능 실행\n",
      "static 메서드\n",
      "<class 'ex03.Cl01'> class 메서드\n"
     ]
    }
   ],
   "source": [
    "from ex03 import a\n",
    "from ex03 import b\n",
    "from ex03 import c\n",
    "from ex03 import func02\n",
    "from ex03 import Cl01\n",
    "\n",
    "print(a)\n",
    "print(b)\n",
    "print(c)\n",
    "func02()\n",
    "d=Cl01()\n",
    "d.func01()\n",
    "Cl01.func02()\n",
    "Cl01.func03()"
   ]
  },
  {
   "cell_type": "code",
   "execution_count": 1,
   "metadata": {},
   "outputs": [
    {
     "name": "stdout",
     "output_type": "stream",
     "text": [
      "1234\n",
      "3.14\n",
      "['문자열']\n",
      "ex03의 func02실행\n",
      "인스턴스의 기능 실행\n",
      "static 메서드\n",
      "<class 'ex03.Cl01'> class 메서드\n"
     ]
    }
   ],
   "source": [
    "from ex02 import *\n",
    "from ex03 import *\n",
    "\n",
    "print(a)\n",
    "print(b)\n",
    "print(c)\n",
    "func02()\n",
    "d=Cl01()\n",
    "d.func01()\n",
    "Cl01.func02()\n",
    "Cl01.func03()"
   ]
  },
  {
   "cell_type": "code",
   "execution_count": 6,
   "metadata": {},
   "outputs": [
    {
     "data": {
      "text/plain": [
       "3.141592653589793"
      ]
     },
     "execution_count": 6,
     "metadata": {},
     "output_type": "execute_result"
    }
   ],
   "source": [
    "from math import pi\n",
    "pi"
   ]
  },
  {
   "cell_type": "code",
   "execution_count": 1,
   "metadata": {},
   "outputs": [
    {
     "name": "stdout",
     "output_type": "stream",
     "text": [
      "moduls01.ex04의 func04실행\n",
      "moduls01.ex05 의 func05실행\n"
     ]
    }
   ],
   "source": [
    "from moduls01.ex04 import func04\n",
    "from moduls01.ex05 import func05\n",
    "func04()\n",
    "func05()"
   ]
  },
  {
   "cell_type": "code",
   "execution_count": 3,
   "metadata": {},
   "outputs": [
    {
     "name": "stdout",
     "output_type": "stream",
     "text": [
      "moduls01.ex04의 func04실행\n"
     ]
    }
   ],
   "source": [
    "import moduls01.ex04 as ex04\n",
    "ex04.func04()"
   ]
  },
  {
   "cell_type": "code",
   "execution_count": 6,
   "metadata": {},
   "outputs": [
    {
     "name": "stdout",
     "output_type": "stream",
     "text": [
      "hello\n"
     ]
    }
   ],
   "source": [
    "def func06():\n",
    "    print(\"hello\")\n",
    "\n",
    "f6=func06\n",
    "f6()"
   ]
  },
  {
   "cell_type": "code",
   "execution_count": 20,
   "metadata": {},
   "outputs": [
    {
     "name": "stdout",
     "output_type": "stream",
     "text": [
      "----------\n"
     ]
    },
    {
     "data": {
      "text/plain": [
       "6"
      ]
     },
     "execution_count": 20,
     "metadata": {},
     "output_type": "execute_result"
    }
   ],
   "source": [
    "def func07(fn):\n",
    "    su=fn(10,\"-\")\n",
    "    print(su)\n",
    "\n",
    "# lambda :return값\n",
    "fn06=lambda a,b:b*a\n",
    "func07(fn06)\n",
    "fn06(2,3)"
   ]
  },
  {
   "cell_type": "code",
   "execution_count": 19,
   "metadata": {},
   "outputs": [
    {
     "data": {
      "text/plain": [
       "['item:1', 'item:2', 'item:3', 'item:4']"
      ]
     },
     "execution_count": 19,
     "metadata": {},
     "output_type": "execute_result"
    }
   ],
   "source": [
    "arr1=['item1','item2','item3','item4']\n",
    "# def func08(a):\n",
    "#     return a[:4]+'-'+a[4]\n",
    "# list(map(func08,arr1))\n",
    "list(map(lambda a:a[:4]+':'+a[4],arr1))"
   ]
  },
  {
   "cell_type": "code",
   "execution_count": 37,
   "metadata": {},
   "outputs": [
    {
     "data": {
      "text/plain": [
       "1.0"
      ]
     },
     "execution_count": 37,
     "metadata": {},
     "output_type": "execute_result"
    }
   ],
   "source": [
    "su=lambda a,b:a/b if a!=0 and b!=0 \\\n",
    "        else \"NaN\" if a==0 and b==0 \\\n",
    "        else 0 if a==0 else 'Inf'\n",
    "su(1,1)"
   ]
  },
  {
   "cell_type": "code",
   "execution_count": 38,
   "metadata": {},
   "outputs": [
    {
     "name": "stdout",
     "output_type": "stream",
     "text": [
      "1234\n"
     ]
    }
   ],
   "source": [
    "def func11():\n",
    "    def func12():\n",
    "        a=1234\n",
    "        return a\n",
    "    b=func12\n",
    "    return b\n",
    "\n",
    "print(func11()())"
   ]
  },
  {
   "cell_type": "code",
   "execution_count": 44,
   "metadata": {},
   "outputs": [
    {
     "name": "stdout",
     "output_type": "stream",
     "text": [
      "1\n",
      "3\n",
      "5\n",
      "7\n"
     ]
    }
   ],
   "source": [
    "a=iter([1,3,5,7])\n",
    "try:\n",
    "    while(su:=next(a)):\n",
    "        print(su)\n",
    "except:\n",
    "    pass"
   ]
  },
  {
   "cell_type": "code",
   "execution_count": 54,
   "metadata": {},
   "outputs": [
    {
     "name": "stdout",
     "output_type": "stream",
     "text": [
      "8\n",
      "6\n",
      "4\n",
      "2\n"
     ]
    }
   ],
   "source": [
    "class Target:\n",
    "    def __init__(self):\n",
    "        self.val=[2,4,6,8]\n",
    "\n",
    "    def __iter__(self):\n",
    "        return self\n",
    "    def __next__(self):\n",
    "        if len(self.val)==0: raise StopIteration\n",
    "        return self.val.pop()\n",
    "\n",
    "a=iter(Target())\n",
    "try:\n",
    "    while(su:=next(a)):\n",
    "        print(su)\n",
    "except:\n",
    "    pass"
   ]
  },
  {
   "cell_type": "code",
   "execution_count": 55,
   "metadata": {},
   "outputs": [
    {
     "name": "stdout",
     "output_type": "stream",
     "text": [
      "8 6 4 2\n"
     ]
    }
   ],
   "source": [
    "a,b,c,d=Target()\n",
    "print(a,b,c,d)"
   ]
  },
  {
   "cell_type": "code",
   "execution_count": 56,
   "metadata": {},
   "outputs": [
    {
     "name": "stdout",
     "output_type": "stream",
     "text": [
      "11\n",
      "22\n",
      "33\n"
     ]
    }
   ],
   "source": [
    "def func20():\n",
    "    yield 11\n",
    "    yield 22\n",
    "    yield 33\n",
    "\n",
    "for i in func20():\n",
    "    print(i)"
   ]
  },
  {
   "cell_type": "code",
   "execution_count": 57,
   "metadata": {},
   "outputs": [
    {
     "data": {
      "text/plain": [
       "['__annotations__',\n",
       " '__builtins__',\n",
       " '__call__',\n",
       " '__class__',\n",
       " '__closure__',\n",
       " '__code__',\n",
       " '__defaults__',\n",
       " '__delattr__',\n",
       " '__dict__',\n",
       " '__dir__',\n",
       " '__doc__',\n",
       " '__eq__',\n",
       " '__format__',\n",
       " '__ge__',\n",
       " '__get__',\n",
       " '__getattribute__',\n",
       " '__getstate__',\n",
       " '__globals__',\n",
       " '__gt__',\n",
       " '__hash__',\n",
       " '__init__',\n",
       " '__init_subclass__',\n",
       " '__kwdefaults__',\n",
       " '__le__',\n",
       " '__lt__',\n",
       " '__module__',\n",
       " '__name__',\n",
       " '__ne__',\n",
       " '__new__',\n",
       " '__qualname__',\n",
       " '__reduce__',\n",
       " '__reduce_ex__',\n",
       " '__repr__',\n",
       " '__setattr__',\n",
       " '__sizeof__',\n",
       " '__str__',\n",
       " '__subclasshook__']"
      ]
     },
     "execution_count": 57,
     "metadata": {},
     "output_type": "execute_result"
    }
   ],
   "source": [
    "dir(func20)"
   ]
  },
  {
   "cell_type": "code",
   "execution_count": 69,
   "metadata": {},
   "outputs": [
    {
     "name": "stdout",
     "output_type": "stream",
     "text": [
      "--\n",
      "func01 내용 출력\n",
      "---\n"
     ]
    }
   ],
   "source": [
    "class Cl22:\n",
    "    def __call__(self,cb):\n",
    "        def inner(a,b):\n",
    "            print(\"-\"*a)\n",
    "            cb(a,b)\n",
    "            print(\"-\"*b)\n",
    "            return\n",
    "        return inner\n",
    "\n",
    "\n",
    "@Cl22()\n",
    "def func01(a,b):\n",
    "    print(\"func01 내용 출력\")\n",
    "\n",
    "func01(2,3)"
   ]
  }
 ],
 "metadata": {
  "kernelspec": {
   "display_name": "Python 3",
   "language": "python",
   "name": "python3"
  },
  "language_info": {
   "codemirror_mode": {
    "name": "ipython",
    "version": 3
   },
   "file_extension": ".py",
   "mimetype": "text/x-python",
   "name": "python",
   "nbconvert_exporter": "python",
   "pygments_lexer": "ipython3",
   "version": "3.11.9"
  }
 },
 "nbformat": 4,
 "nbformat_minor": 2
}
