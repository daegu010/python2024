{
 "cells": [
  {
   "cell_type": "markdown",
   "metadata": {},
   "source": [
    "#### 반복문"
   ]
  },
  {
   "cell_type": "code",
   "execution_count": 3,
   "metadata": {},
   "outputs": [
    {
     "name": "stdout",
     "output_type": "stream",
     "text": [
      "출력 item1\n",
      "출력 item2\n",
      "출력 item3\n",
      "출력 item4\n"
     ]
    }
   ],
   "source": [
    "for i in ['item1','item2','item3','item4']:\n",
    "    print(\"출력\",i)"
   ]
  },
  {
   "cell_type": "code",
   "execution_count": 5,
   "metadata": {},
   "outputs": [
    {
     "name": "stdout",
     "output_type": "stream",
     "text": [
      "출력 1\n",
      "출력 2\n",
      "출력 3\n",
      "출력 4\n",
      "출력 5\n"
     ]
    }
   ],
   "source": [
    "for i in range(5):\n",
    "    print(\"출력\",i+1)"
   ]
  },
  {
   "cell_type": "code",
   "execution_count": 6,
   "metadata": {},
   "outputs": [
    {
     "name": "stdout",
     "output_type": "stream",
     "text": [
      "출력: 일\n",
      "출력: 이\n",
      "출력: 삼\n",
      "출력: 사\n",
      "출력: 오\n"
     ]
    }
   ],
   "source": [
    "# 한글로 1부터 5을 숫자를 출력하세요 \n",
    "# 출력: 일\n",
    "# 출력: 이\n",
    "# 출력: 삼\n",
    "# 출력: 사\n",
    "# 출력: 오\n",
    "arr1=['일','이','삼','사','오']\n",
    "for i in range(5) :\n",
    "    print(\"출력:\", arr1[i])\n"
   ]
  },
  {
   "cell_type": "code",
   "execution_count": 8,
   "metadata": {},
   "outputs": [
    {
     "name": "stdout",
     "output_type": "stream",
     "text": [
      "출력: 일\n",
      "출력: 이\n",
      "출력: 삼\n",
      "출력: 사\n",
      "출력: 오\n"
     ]
    }
   ],
   "source": [
    "for i in arr1 :\n",
    "    print(\"출력:\", i)"
   ]
  },
  {
   "cell_type": "code",
   "execution_count": 10,
   "metadata": {},
   "outputs": [
    {
     "name": "stdout",
     "output_type": "stream",
     "text": [
      "출력: 일\n",
      "출력: 이\n",
      "출력: 삼\n",
      "출력: 사\n",
      "출력: 오\n"
     ]
    }
   ],
   "source": [
    "for i in '일이삼사오' :    \n",
    "    print(\"출력:\", i)"
   ]
  },
  {
   "cell_type": "code",
   "execution_count": 15,
   "metadata": {},
   "outputs": [
    {
     "name": "stdout",
     "output_type": "stream",
     "text": [
      "0\n",
      "1\n",
      "2\n",
      "3\n",
      "4\n",
      "outter 4\n"
     ]
    }
   ],
   "source": [
    "변수명='초기값'\n",
    "print(변수명)\n",
    "for 변수명 in range(5) :\n",
    "    print(변수명)\n",
    "\n",
    "\n",
    "print('outter',변수명)"
   ]
  },
  {
   "cell_type": "code",
   "execution_count": 18,
   "metadata": {},
   "outputs": [
    {
     "name": "stdout",
     "output_type": "stream",
     "text": [
      "0 2 4 6 8 "
     ]
    }
   ],
   "source": [
    "for i in range(0,10,2) :    # 반복의 횟수 : 5, 출력:5\n",
    "    print(i,end=\" \")"
   ]
  },
  {
   "cell_type": "code",
   "execution_count": 20,
   "metadata": {},
   "outputs": [
    {
     "name": "stdout",
     "output_type": "stream",
     "text": [
      "0 2 4 6 8 "
     ]
    }
   ],
   "source": [
    "for i in range(0,10) :      # 반복의 횟수 : 10, 출력:5\n",
    "    if i%2==0: print(i, end=\" \")"
   ]
  },
  {
   "cell_type": "code",
   "execution_count": 25,
   "metadata": {},
   "outputs": [
    {
     "data": {
      "text/plain": [
       "['d', 'c', 'b', 'a']"
      ]
     },
     "execution_count": 25,
     "metadata": {},
     "output_type": "execute_result"
    }
   ],
   "source": [
    "a=['list1','list2','list3','list4']\n",
    "b=('item1','item2','item3','item4')\n",
    "c=range(4)\n",
    "d=\"abcd\"\n",
    "list(reversed(d))  # 시퀀스객체 - 순서o"
   ]
  },
  {
   "cell_type": "code",
   "execution_count": 42,
   "metadata": {},
   "outputs": [
    {
     "name": "stdout",
     "output_type": "stream",
     "text": [
      "반복 0\n",
      "반복 1\n",
      "반복 2\n"
     ]
    }
   ],
   "source": [
    "w=True\n",
    "su=0                    # 1.초기화\n",
    "while w:\n",
    "    print('반복',su)    # 2.실행문\n",
    "    su+=1               # 3.증감\n",
    "    if su>=3: w=False   # 4.조건검사"
   ]
  },
  {
   "cell_type": "code",
   "execution_count": 54,
   "metadata": {},
   "outputs": [
    {
     "name": "stdout",
     "output_type": "stream",
     "text": [
      "item1\n",
      "item2\n",
      "item3\n",
      "item4\n"
     ]
    }
   ],
   "source": [
    "for i in ['item1','item2','item3','item4']:\n",
    "    print(i)"
   ]
  },
  {
   "cell_type": "code",
   "execution_count": 63,
   "metadata": {},
   "outputs": [
    {
     "data": {
      "text/plain": [
       "0.5119332005626159"
      ]
     },
     "execution_count": 63,
     "metadata": {},
     "output_type": "execute_result"
    }
   ],
   "source": [
    "import random\n",
    "random.random() # 0<=ran<1"
   ]
  },
  {
   "cell_type": "code",
   "execution_count": 228,
   "metadata": {},
   "outputs": [
    {
     "name": "stdout",
     "output_type": "stream",
     "text": [
      "15\n"
     ]
    }
   ],
   "source": [
    "# 1~45 로또 번호 6개.\n",
    "# 1~3\n",
    "limit=45+1\n",
    "boo=True\n",
    "while boo:\n",
    "    su=int(random.random()*100) # 0~ 99\n",
    "    if (0<su<limit) : boo=False\n",
    "print(su)"
   ]
  },
  {
   "cell_type": "code",
   "execution_count": 311,
   "metadata": {},
   "outputs": [
    {
     "name": "stdout",
     "output_type": "stream",
     "text": [
      "[25, 3, 19, 42, 30, 39]\n"
     ]
    }
   ],
   "source": [
    "# 0.0~0.99999\n",
    "# 0<=ran<1.0\n",
    "# 0+1<=ran*45+1<1.0*45+1\n",
    "\n",
    "#용지\n",
    "lotto=[0,0,0,0,0,0]\n",
    "cnt=0\n",
    "boo=True\n",
    "while boo:\n",
    "    # 숫자 받고\n",
    "    su=int(random.random()*45)+1\n",
    "    pas=True\n",
    "    for j in lotto:\n",
    "        if j==su :\n",
    "            pas=False\n",
    "    # 기입\n",
    "    if pas:\n",
    "        lotto[cnt]=su\n",
    "        cnt+=1\n",
    "    if(cnt==6): boo=False\n",
    "print(lotto)"
   ]
  },
  {
   "cell_type": "code",
   "execution_count": 312,
   "metadata": {},
   "outputs": [
    {
     "name": "stdout",
     "output_type": "stream",
     "text": [
      "[40, 37, 9, 45, 30, 13]\n"
     ]
    }
   ],
   "source": [
    "lotto=[]\n",
    "while 6!=len(lotto):\n",
    "    # 숫자 받고\n",
    "    su=random.randint(1,45)\n",
    "    pas=True\n",
    "    for j in lotto:\n",
    "        if j==su :\n",
    "            pas=False\n",
    "            break\n",
    "    # 기입\n",
    "    if pas:\n",
    "        lotto.append(su)\n",
    "print(lotto)"
   ]
  },
  {
   "cell_type": "code",
   "execution_count": 279,
   "metadata": {},
   "outputs": [
    {
     "name": "stdout",
     "output_type": "stream",
     "text": [
      "전\n",
      "i= 1\n",
      "i= 3\n",
      "i= 7\n",
      "i= 9\n",
      "후\n"
     ]
    }
   ],
   "source": [
    "print(\"전\")\n",
    "for i in [1,3,5,7,9]:\n",
    "    if i==5 : continue\n",
    "    print('i=',i)\n",
    "print(\"후\")"
   ]
  },
  {
   "cell_type": "code",
   "execution_count": null,
   "metadata": {},
   "outputs": [],
   "source": [
    "# *\n",
    "# **\n",
    "# ***\n",
    "# ****\n",
    "# *****\n",
    "\n",
    "# *****\n",
    "# ****\n",
    "# ***\n",
    "# **\n",
    "# *\n",
    "\n",
    "#     *\n",
    "#    **\n",
    "#   ***\n",
    "#  ****\n",
    "# *****"
   ]
  },
  {
   "cell_type": "code",
   "execution_count": null,
   "metadata": {},
   "outputs": [],
   "source": [
    "#\n",
    "# 구구단 출력\n",
    "# 2x1=2    3x1=3   4x1=4 ...\n",
    "# 2x2=4    3x2=    4x2=\n",
    "# 2x3=0    3x3=    4x3=\n",
    "# ...\n",
    "# 2x9=0    3x9=    4x1="
   ]
  },
  {
   "cell_type": "code",
   "execution_count": 293,
   "metadata": {},
   "outputs": [
    {
     "name": "stdout",
     "output_type": "stream",
     "text": [
      "2 x 1 = 2\t3 x 1 = 3\t4 x 1 = 4\t5 x 1 = 5\t6 x 1 = 6\t7 x 1 = 7\t8 x 1 = 8\t9 x 1 = 9\t\n",
      "2 x 2 = 4\t3 x 2 = 6\t4 x 2 = 8\t5 x 2 = 10\t6 x 2 = 12\t7 x 2 = 14\t8 x 2 = 16\t9 x 2 = 18\t\n",
      "2 x 3 = 6\t3 x 3 = 9\t4 x 3 = 12\t5 x 3 = 15\t6 x 3 = 18\t7 x 3 = 21\t8 x 3 = 24\t9 x 3 = 27\t\n",
      "2 x 4 = 8\t3 x 4 = 12\t4 x 4 = 16\t5 x 4 = 20\t6 x 4 = 24\t7 x 4 = 28\t8 x 4 = 32\t9 x 4 = 36\t\n",
      "2 x 5 = 10\t3 x 5 = 15\t4 x 5 = 20\t5 x 5 = 25\t6 x 5 = 30\t7 x 5 = 35\t8 x 5 = 40\t9 x 5 = 45\t\n",
      "2 x 6 = 12\t3 x 6 = 18\t4 x 6 = 24\t5 x 6 = 30\t6 x 6 = 36\t7 x 6 = 42\t8 x 6 = 48\t9 x 6 = 54\t\n",
      "2 x 7 = 14\t3 x 7 = 21\t4 x 7 = 28\t5 x 7 = 35\t6 x 7 = 42\t7 x 7 = 49\t8 x 7 = 56\t9 x 7 = 63\t\n",
      "2 x 8 = 16\t3 x 8 = 24\t4 x 8 = 32\t5 x 8 = 40\t6 x 8 = 48\t7 x 8 = 56\t8 x 8 = 64\t9 x 8 = 72\t\n",
      "2 x 9 = 18\t3 x 9 = 27\t4 x 9 = 36\t5 x 9 = 45\t6 x 9 = 54\t7 x 9 = 63\t8 x 9 = 72\t9 x 9 = 81\t\n"
     ]
    }
   ],
   "source": [
    "for i in range(1,10):\n",
    "    for j in range(2,10):\n",
    "        print(j,'x',i,'=',i*j,end='\\t')\n",
    "    print()"
   ]
  },
  {
   "cell_type": "code",
   "execution_count": 304,
   "metadata": {},
   "outputs": [
    {
     "name": "stdout",
     "output_type": "stream",
     "text": [
      "2 x 1 = 2\t3 x 1 = 3\t4 x 1 = 4\t5 x 1 = 5\t6 x 1 = 6\t7 x 1 = 7\t8 x 1 = 8\t9 x 1 = 9\t\n",
      "2 x 2 = 4\t3 x 2 = 6\t4 x 2 = 8\t5 x 2 = 10\t6 x 2 = 12\t7 x 2 = 14\t8 x 2 = 16\t9 x 2 = 18\t\n",
      "2 x 3 = 6\t3 x 3 = 9\t4 x 3 = 12\t5 x 3 = 15\t6 x 3 = 18\t7 x 3 = 21\t8 x 3 = 24\t9 x 3 = 27\t\n",
      "2 x 4 = 8\t3 x 4 = 12\t4 x 4 = 16\t5 x 4 = 20\t6 x 4 = 24\t7 x 4 = 28\t8 x 4 = 32\t9 x 4 = 36\t\n",
      "2 x 5 = 10\t3 x 5 = 15\t4 x 5 = 20\t5 x 5 = 25\t6 x 5 = 30\t7 x 5 = 35\t8 x 5 = 40\t9 x 5 = 45\t\n",
      "2 x 6 = 12\t3 x 6 = 18\t4 x 6 = 24\t5 x 6 = 30\t6 x 6 = 36\t7 x 6 = 42\t8 x 6 = 48\t9 x 6 = 54\t\n",
      "2 x 7 = 14\t3 x 7 = 21\t4 x 7 = 28\t5 x 7 = 35\t6 x 7 = 42\t7 x 7 = 49\t8 x 7 = 56\t9 x 7 = 63\t\n",
      "2 x 8 = 16\t3 x 8 = 24\t4 x 8 = 32\t5 x 8 = 40\t6 x 8 = 48\t7 x 8 = 56\t8 x 8 = 64\t9 x 8 = 72\t\n",
      "2 x 9 = 18\t3 x 9 = 27\t4 x 9 = 36\t5 x 9 = 45\t6 x 9 = 54\t7 x 9 = 63\t8 x 9 = 72\t9 x 9 = 81\t"
     ]
    }
   ],
   "source": [
    "a=2\n",
    "b=1\n",
    "while True:\n",
    "    if a==10:\n",
    "        if b==9: break\n",
    "        b+=1 \n",
    "        print()\n",
    "        a=2\n",
    "    print(a,'x',b,'=',a*b,end='\\t')\n",
    "    a+=1"
   ]
  },
  {
   "cell_type": "code",
   "execution_count": 308,
   "metadata": {},
   "outputs": [
    {
     "name": "stdout",
     "output_type": "stream",
     "text": [
      "* * * * * * * * * * \n",
      "* * * * * * * * * * \n",
      "* * * * * * * * * * \n",
      "* * * * * * * * * * \n",
      "* * * * * * * * * * \n"
     ]
    }
   ],
   "source": [
    "for i in range(5):\n",
    "    for j in range(10):\n",
    "        print('*',end=\" \")\n",
    "    print()"
   ]
  },
  {
   "cell_type": "code",
   "execution_count": 310,
   "metadata": {},
   "outputs": [
    {
     "name": "stdout",
     "output_type": "stream",
     "text": [
      "[2, 4, 6]\n"
     ]
    }
   ],
   "source": [
    "arr=[]\n",
    "arr.append(2)\n",
    "arr.append(4)\n",
    "arr.append(6)\n",
    "print(arr)"
   ]
  },
  {
   "cell_type": "code",
   "execution_count": 318,
   "metadata": {},
   "outputs": [
    {
     "data": {
      "text/plain": [
       "['더앞으로', '앞으로', 1, 2, 4, 5]"
      ]
     },
     "execution_count": 318,
     "metadata": {},
     "output_type": "execute_result"
    }
   ],
   "source": [
    "arr=[1,2,4,5]\n",
    "\n",
    "# arr.insert(len(arr),'추가')\n",
    "arr.insert(0,'앞으로')\n",
    "arr.insert(0,'더앞으로')\n",
    "arr"
   ]
  },
  {
   "cell_type": "code",
   "execution_count": 330,
   "metadata": {},
   "outputs": [
    {
     "data": {
      "text/plain": [
       "[1, 3, 5, 2, 4]"
      ]
     },
     "execution_count": 330,
     "metadata": {},
     "output_type": "execute_result"
    }
   ],
   "source": [
    "arr1=[1,3,5]\n",
    "arr2=[2,4]\n",
    "arr1.extend(arr2)\n",
    "arr1"
   ]
  },
  {
   "cell_type": "code",
   "execution_count": 329,
   "metadata": {},
   "outputs": [
    {
     "data": {
      "text/plain": [
       "[1, 3, 5, 2, 4]"
      ]
     },
     "execution_count": 329,
     "metadata": {},
     "output_type": "execute_result"
    }
   ],
   "source": [
    "arr1=[1,3,5]\n",
    "arr2=[2,4]\n",
    "# arr1+arr2\n",
    "arr1+=arr2\n",
    "arr1"
   ]
  },
  {
   "cell_type": "code",
   "execution_count": 338,
   "metadata": {},
   "outputs": [
    {
     "name": "stdout",
     "output_type": "stream",
     "text": [
      "[10, 12, 13, 14, 15] 11\n"
     ]
    }
   ],
   "source": [
    "arr=[10,11,12,13,14,15]\n",
    "\n",
    "a=arr.pop(1)        #()마지막 (idx)인덱스에 해당하는 값을 지움\n",
    "print(arr,a)"
   ]
  },
  {
   "cell_type": "code",
   "execution_count": 335,
   "metadata": {},
   "outputs": [
    {
     "name": "stdout",
     "output_type": "stream",
     "text": [
      "[10, 11, 12, 14, 15] None\n"
     ]
    }
   ],
   "source": [
    "arr=[10,11,12,13,14,15]\n",
    "\n",
    "a=arr.remove(13)   # 일치하는 값을 찾아 지움\n",
    "print(arr,a)"
   ]
  },
  {
   "cell_type": "code",
   "execution_count": 347,
   "metadata": {},
   "outputs": [
    {
     "data": {
      "text/plain": [
       "[10, 11, 13]"
      ]
     },
     "execution_count": 347,
     "metadata": {},
     "output_type": "execute_result"
    }
   ],
   "source": [
    "arr=[10,11,12,13,12,12]\n",
    "\n",
    "target=12\n",
    "while arr.count(target):\n",
    "    arr.remove(target)\n",
    "arr"
   ]
  },
  {
   "cell_type": "code",
   "execution_count": 351,
   "metadata": {},
   "outputs": [
    {
     "data": {
      "text/plain": [
       "4"
      ]
     },
     "execution_count": 351,
     "metadata": {},
     "output_type": "execute_result"
    }
   ],
   "source": [
    "arr=[10,11,12,13,12,12]\n",
    "arr.index(12,arr.index(12)+1)"
   ]
  },
  {
   "cell_type": "code",
   "execution_count": 360,
   "metadata": {},
   "outputs": [
    {
     "name": "stdout",
     "output_type": "stream",
     "text": [
      "[5, 4, 3, 2, 1]\n",
      "[]\n"
     ]
    }
   ],
   "source": [
    "arr=[1, 3, 5, 2, 4]\n",
    "# arr.sort()\n",
    "# print(list(reversed(arr)))\n",
    "# print(arr)\n",
    "arr.sort(reverse=True)\n",
    "print(arr)\n",
    "arr.clear()\n",
    "print(arr)"
   ]
  },
  {
   "cell_type": "code",
   "execution_count": null,
   "metadata": {},
   "outputs": [],
   "source": [
    "# 선형자료구조\n",
    "# quere\n",
    "# stack\n",
    "\n",
    "\n",
    "\n",
    "\n"
   ]
  },
  {
   "cell_type": "markdown",
   "metadata": {},
   "source": [
    "<img src=\"https://velog.velcdn.com/images%2Fsoor%2Fpost%2Fddffc81f-95e8-4762-bc04-48d567e5bf95%2F%E1%84%89%E1%85%B3%E1%84%8F%E1%85%B3%E1%84%85%E1%85%B5%E1%86%AB%E1%84%89%E1%85%A3%E1%86%BA%202021-04-24%20%E1%84%8B%E1%85%A9%E1%84%8C%E1%85%A5%E1%86%AB%209.13.29.png\">"
   ]
  },
  {
   "cell_type": "code",
   "execution_count": 362,
   "metadata": {},
   "outputs": [
    {
     "name": "stdout",
     "output_type": "stream",
     "text": [
      "item1\n",
      "item2\n",
      "item3\n",
      "item4\n",
      "item5\n"
     ]
    }
   ],
   "source": [
    "que=[]\n",
    "que.insert(0,'item1')\n",
    "que.insert(0,'item2')\n",
    "que.insert(0,'item3')\n",
    "que.insert(0,'item4')\n",
    "que.insert(0,'item5')\n",
    "while len(que):\n",
    "    print(que.pop())"
   ]
  },
  {
   "cell_type": "code",
   "execution_count": 363,
   "metadata": {},
   "outputs": [
    {
     "name": "stdout",
     "output_type": "stream",
     "text": [
      "item5\n",
      "item4\n",
      "item3\n",
      "item2\n",
      "item1\n"
     ]
    }
   ],
   "source": [
    "stk=[]\n",
    "stk.append('item1')\n",
    "stk.append('item2')\n",
    "stk.append('item3')\n",
    "stk.append('item4')\n",
    "stk.append('item5')\n",
    "while len(stk):\n",
    "    print(stk.pop())"
   ]
  },
  {
   "cell_type": "code",
   "execution_count": 370,
   "metadata": {},
   "outputs": [
    {
     "data": {
      "text/plain": [
       "[11, 12, 13, 14, 15]"
      ]
     },
     "execution_count": 370,
     "metadata": {},
     "output_type": "execute_result"
    }
   ],
   "source": [
    "arr=[]\n",
    "arr[0:]=[11]\n",
    "arr[1:]=[12]\n",
    "arr[2:]=[13]\n",
    "arr[len(arr):]=[14]\n",
    "arr[len(arr):]=[15]\n",
    "arr"
   ]
  },
  {
   "cell_type": "code",
   "execution_count": 375,
   "metadata": {},
   "outputs": [
    {
     "name": "stdout",
     "output_type": "stream",
     "text": [
      "[1, 3, 5, 7, 9] 1421874513728\n",
      "[1, 3, 6, 7, 9] 1421873871872\n"
     ]
    }
   ],
   "source": [
    "arr1=[1,3,5,7,9]\n",
    "# arr2=arr1 # 얕은복사\n",
    "\n",
    "arr2=arr1.copy() # 깊은복사 \n",
    "\n",
    "arr2[2]=6\n",
    "\n",
    "print(arr1, id(arr1))\n",
    "print(arr2, id(arr2))"
   ]
  },
  {
   "cell_type": "code",
   "execution_count": 382,
   "metadata": {},
   "outputs": [
    {
     "name": "stdout",
     "output_type": "stream",
     "text": [
      "[10, 12, [1, 4, 3]]\n",
      "[10, 12, [1, 2, 3]]\n"
     ]
    }
   ],
   "source": [
    "arr3=[1,2,3]\n",
    "arr4=[10,12,arr3] # 주소담고\n",
    "# arr5=[10,12,arr3.copy()]\n",
    "arr5=arr4.copy()\n",
    "arr5[2]=arr4[2].copy()\n",
    "\n",
    "arr4[2][1]=4\n",
    "\n",
    "print(arr4)\n",
    "print(arr5)"
   ]
  },
  {
   "cell_type": "code",
   "execution_count": 385,
   "metadata": {},
   "outputs": [
    {
     "name": "stdout",
     "output_type": "stream",
     "text": [
      "0 1\n",
      "1 3\n",
      "2 5\n",
      "3 7\n",
      "4 9\n"
     ]
    }
   ],
   "source": [
    "arr1=[1,3,5,7,9]\n",
    "\n",
    "for i,j in enumerate(arr1):\n",
    "    print(i,j)"
   ]
  },
  {
   "cell_type": "code",
   "execution_count": 388,
   "metadata": {},
   "outputs": [
    {
     "name": "stdout",
     "output_type": "stream",
     "text": [
      "1\n",
      "9\n",
      "25\n"
     ]
    }
   ],
   "source": [
    "arr1=[1,3,5,7,9]\n",
    "print(min(arr1))\n",
    "print(max(arr1))\n",
    "print(sum(arr1))\n"
   ]
  },
  {
   "cell_type": "code",
   "execution_count": 395,
   "metadata": {},
   "outputs": [
    {
     "name": "stdout",
     "output_type": "stream",
     "text": [
      "[2, 4, 6, 8]\n",
      "[2, 4, 6, 8]\n",
      "[2, 4, 6, 8]\n"
     ]
    }
   ],
   "source": [
    "arr1=[2,4,6,8]\n",
    "arr2=list(range(2,10,2))\n",
    "arr3=list(i*2 for i in range(5) if i!=0)\n",
    "\n",
    "print(arr1)\n",
    "print(arr2)\n",
    "print(arr3)"
   ]
  },
  {
   "cell_type": "code",
   "execution_count": 399,
   "metadata": {},
   "outputs": [
    {
     "data": {
      "text/plain": [
       "['Aa', 'Ab', 'Ac', 'Ba', 'Bb', 'Bc', 'Ca', 'Cb', 'Cc']"
      ]
     },
     "execution_count": 399,
     "metadata": {},
     "output_type": "execute_result"
    }
   ],
   "source": [
    "arr4=[i+j for i in ['A','B','C'] \n",
    "            for j in ['a','b','c'] ]\n",
    "arr4"
   ]
  },
  {
   "cell_type": "code",
   "execution_count": 402,
   "metadata": {},
   "outputs": [
    {
     "name": "stdout",
     "output_type": "stream",
     "text": [
      "Aa,Ab,Ac,Ba,Bb,Bc,Ca,Cb,Cc,"
     ]
    }
   ],
   "source": [
    "for i in ['A','B','C'] :\n",
    "    for j in ['a','b','c'] :\n",
    "        print(i+j,end=',') "
   ]
  },
  {
   "cell_type": "code",
   "execution_count": 405,
   "metadata": {},
   "outputs": [
    {
     "data": {
      "text/plain": [
       "('Aa', 'Ab', 'Ac', 'Ba', 'Bb', 'Bc', 'Ca', 'Cb', 'Cc')"
      ]
     },
     "execution_count": 405,
     "metadata": {},
     "output_type": "execute_result"
    }
   ],
   "source": [
    "arr5=(i+j for i in ['A','B','C'] for j in ['a','b','c'] )\n",
    "tuple(arr5)"
   ]
  },
  {
   "cell_type": "code",
   "execution_count": 412,
   "metadata": {},
   "outputs": [
    {
     "name": "stdout",
     "output_type": "stream",
     "text": [
      "1 2 \n",
      "3 4 \n",
      "5 8 \n"
     ]
    }
   ],
   "source": [
    "arr1=[[1,2]\n",
    "      ,[3,4]\n",
    "      ,[5,6]]\n",
    "\n",
    "arr1[2][1]=8\n",
    "# arr2=arr1[2]\n",
    "# arr2[1]=8\n",
    "\n",
    "for i in arr1:\n",
    "    for j in i:\n",
    "        print(j, end=' ')\n",
    "    print()"
   ]
  },
  {
   "cell_type": "code",
   "execution_count": 415,
   "metadata": {},
   "outputs": [
    {
     "ename": "ValueError",
     "evalue": "too many values to unpack (expected 2)",
     "output_type": "error",
     "traceback": [
      "\u001b[1;31m---------------------------------------------------------------------------\u001b[0m",
      "\u001b[1;31mValueError\u001b[0m                                Traceback (most recent call last)",
      "Cell \u001b[1;32mIn[415], line 2\u001b[0m\n\u001b[0;32m      1\u001b[0m arr2\u001b[38;5;241m=\u001b[39m[\u001b[38;5;124m'\u001b[39m\u001b[38;5;124mitem1\u001b[39m\u001b[38;5;124m'\u001b[39m,\u001b[38;5;124m'\u001b[39m\u001b[38;5;124mitem2\u001b[39m\u001b[38;5;124m'\u001b[39m,\u001b[38;5;124m'\u001b[39m\u001b[38;5;124mitem3\u001b[39m\u001b[38;5;124m'\u001b[39m]\n\u001b[1;32m----> 2\u001b[0m a,b\u001b[38;5;241m=\u001b[39marr2\n\u001b[0;32m      3\u001b[0m \u001b[38;5;28mprint\u001b[39m(a,b)\n",
      "\u001b[1;31mValueError\u001b[0m: too many values to unpack (expected 2)"
     ]
    }
   ],
   "source": [
    "arr2=['item1','item2']\n",
    "a,b=arr2\n",
    "print(a,b)"
   ]
  },
  {
   "cell_type": "code",
   "execution_count": 413,
   "metadata": {},
   "outputs": [
    {
     "name": "stdout",
     "output_type": "stream",
     "text": [
      "1 2\n",
      "3 4\n",
      "5 8\n"
     ]
    }
   ],
   "source": [
    "for i,j in arr1:\n",
    "    print(i,j)"
   ]
  },
  {
   "cell_type": "code",
   "execution_count": 416,
   "metadata": {},
   "outputs": [
    {
     "name": "stdout",
     "output_type": "stream",
     "text": [
      "1 2\n",
      "3 4\n",
      "5 8\n"
     ]
    }
   ],
   "source": [
    "cnt=0\n",
    "while cnt<len(arr1):\n",
    "    a,b=arr1[cnt]\n",
    "    print(a,b)\n",
    "    cnt+=1"
   ]
  },
  {
   "cell_type": "code",
   "execution_count": 421,
   "metadata": {},
   "outputs": [
    {
     "data": {
      "text/plain": [
       "[[], [0, 1], [0, 1, 0, 1], [0, 1, 0, 1, 0, 1], [0, 1, 0, 1, 0, 1, 0, 1]]"
      ]
     },
     "execution_count": 421,
     "metadata": {},
     "output_type": "execute_result"
    }
   ],
   "source": [
    "arr1=[[j for j in range(2)]*i for i in range(5)]\n",
    "arr1"
   ]
  },
  {
   "cell_type": "code",
   "execution_count": 428,
   "metadata": {},
   "outputs": [],
   "source": [
    "import copy as clone # import 모듈명 as 별칭"
   ]
  },
  {
   "cell_type": "code",
   "execution_count": 429,
   "metadata": {},
   "outputs": [
    {
     "name": "stdout",
     "output_type": "stream",
     "text": [
      "[[1, 2], [3, 4], [5, 6]] 1421865602432\n",
      "[[1, 2], [33, 4], [5, 6]] 1421873099584\n"
     ]
    }
   ],
   "source": [
    "arr1=[[1,2],[3,4],[5,6]]\n",
    "arr2=clone.deepcopy(arr1)\n",
    "\n",
    "arr2[1][0]=33\n",
    "\n",
    "print(arr1,id(arr1[1]))\n",
    "print(arr2,id(arr2[1]))"
   ]
  },
  {
   "cell_type": "code",
   "execution_count": 430,
   "metadata": {},
   "outputs": [
    {
     "name": "stdout",
     "output_type": "stream",
     "text": [
      "[[1, 2], [3, 4], [5, 6]] 1421865606912\n",
      "[[1, 2], [33, 4], [5, 6]] 1421871427200\n"
     ]
    }
   ],
   "source": [
    "arr1=[[1,2],[3,4],[5,6]]\n",
    "arr2=[]\n",
    "for i in arr1:\n",
    "    arr2.append(i.copy())\n",
    "\n",
    "arr2[1][0]=33\n",
    "\n",
    "print(arr1,id(arr1[1]))\n",
    "print(arr2,id(arr2[1]))"
   ]
  },
  {
   "cell_type": "markdown",
   "metadata": {},
   "source": [
    "### 문자열"
   ]
  },
  {
   "cell_type": "code",
   "execution_count": 435,
   "metadata": {},
   "outputs": [
    {
     "name": "stdout",
     "output_type": "stream",
     "text": [
      "hellopython\n"
     ]
    }
   ],
   "source": [
    "msg=\"hello\"+\"world\"\n",
    "msg=msg.replace(\"world\",\"python\")\n",
    "print(msg)"
   ]
  },
  {
   "cell_type": "code",
   "execution_count": 446,
   "metadata": {},
   "outputs": [
    {
     "data": {
      "text/plain": [
       "'Aaa,bbbb,cccc'"
      ]
     },
     "execution_count": 446,
     "metadata": {},
     "output_type": "execute_result"
    }
   ],
   "source": [
    "data=\"aaa\tbbbb\tcccc\"\n",
    "arr1=data.split('\\t')\n",
    "arr1[0]=arr1[0].upper()\n",
    "arr1[0]=arr1[0].lower()\n",
    "arr1[0]=arr1[0].title()\n",
    "','.join(arr1)"
   ]
  },
  {
   "cell_type": "code",
   "execution_count": 451,
   "metadata": {},
   "outputs": [
    {
     "name": "stdout",
     "output_type": "stream",
     "text": [
      ">>ab       cd        <<<\n",
      ">>       ab       cd<<<\n",
      ">>ab       cd<<<\n"
     ]
    }
   ],
   "source": [
    "data='       ab       cd        '\n",
    "print(\">>\"+data.lstrip()+\"<<<\")\n",
    "print(\">>\"+data.rstrip()+\"<<<\")\n",
    "print(\">>\"+data.strip()+\"<<<\")"
   ]
  },
  {
   "cell_type": "code",
   "execution_count": 454,
   "metadata": {},
   "outputs": [
    {
     "name": "stdout",
     "output_type": "stream",
     "text": [
      ">>ab cd,,,,<<<\n",
      ">>#####,####ab cd<<<\n",
      ">>ab cd<<<\n"
     ]
    }
   ],
   "source": [
    "data='#####,####ab cd,,,,'\n",
    "print(\">>\"+data.lstrip(\"#,\")+\"<<<\")\n",
    "print(\">>\"+data.rstrip(\"#,\")+\"<<<\")\n",
    "print(\">>\"+data.strip(\"#,\")+\"<<<\")"
   ]
  },
  {
   "cell_type": "code",
   "execution_count": 459,
   "metadata": {},
   "outputs": [
    {
     "name": "stdout",
     "output_type": "stream",
     "text": [
      ">>abc       <<<\n",
      ">>       abc<<<\n",
      ">>abc<<<\n"
     ]
    }
   ],
   "source": [
    "data=\"abc\"\n",
    "\n",
    "print(\">>\"+data.ljust(10)+\"<<<\")\n",
    "print(\">>\"+data.rjust(10)+\"<<<\")\n",
    "print(\">>\"+data.center(10)+\"<<<\")"
   ]
  },
  {
   "cell_type": "code",
   "execution_count": 465,
   "metadata": {},
   "outputs": [
    {
     "data": {
      "text/plain": [
       "'Abcd'"
      ]
     },
     "execution_count": 465,
     "metadata": {},
     "output_type": "execute_result"
    }
   ],
   "source": [
    "\"   aBcD   \"\\\n",
    "        .split()[0]\\\n",
    "            .lower()\\\n",
    "            .title()"
   ]
  },
  {
   "cell_type": "code",
   "execution_count": 473,
   "metadata": {},
   "outputs": [
    {
     "data": {
      "text/plain": [
       "'10000000000'"
      ]
     },
     "execution_count": 473,
     "metadata": {},
     "output_type": "execute_result"
    }
   ],
   "source": [
    "\"100\".zfill(10)"
   ]
  },
  {
   "cell_type": "code",
   "execution_count": 478,
   "metadata": {},
   "outputs": [
    {
     "data": {
      "text/plain": [
       "-1"
      ]
     },
     "execution_count": 478,
     "metadata": {},
     "output_type": "execute_result"
    }
   ],
   "source": [
    "# \"abcdefg\".index(\"z\")\n",
    "\"abcdefg\".find(\"z\")"
   ]
  },
  {
   "cell_type": "code",
   "execution_count": 480,
   "metadata": {},
   "outputs": [
    {
     "data": {
      "text/plain": [
       "5"
      ]
     },
     "execution_count": 480,
     "metadata": {},
     "output_type": "execute_result"
    }
   ],
   "source": [
    "\"afcdefg\".rfind(\"f\")"
   ]
  },
  {
   "cell_type": "code",
   "execution_count": null,
   "metadata": {},
   "outputs": [],
   "source": []
  }
 ],
 "metadata": {
  "kernelspec": {
   "display_name": "Python 3",
   "language": "python",
   "name": "python3"
  },
  "language_info": {
   "codemirror_mode": {
    "name": "ipython",
    "version": 3
   },
   "file_extension": ".py",
   "mimetype": "text/x-python",
   "name": "python",
   "nbconvert_exporter": "python",
   "pygments_lexer": "ipython3",
   "version": "3.11.9"
  }
 },
 "nbformat": 4,
 "nbformat_minor": 2
}
