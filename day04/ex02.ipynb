{
 "cells": [
  {
   "cell_type": "code",
   "execution_count": 2,
   "metadata": {},
   "outputs": [],
   "source": [
    "import os"
   ]
  },
  {
   "cell_type": "code",
   "execution_count": 7,
   "metadata": {},
   "outputs": [],
   "source": [
    "os.chdir('C:\\\\workspace\\\\day04')"
   ]
  },
  {
   "cell_type": "markdown",
   "metadata": {},
   "source": [
    "#### io연결\n",
    "- open(경로및파일명,모드(읽기(r),쓰기(w)))\n",
    "- close을 통해 연결해제(마지막 반드시)\n"
   ]
  },
  {
   "cell_type": "code",
   "execution_count": 25,
   "metadata": {},
   "outputs": [],
   "source": [
    "\n",
    "a=open('test01.txt','a')\n",
    "a.write('작성중')\n",
    "a.close()"
   ]
  },
  {
   "cell_type": "code",
   "execution_count": 19,
   "metadata": {},
   "outputs": [
    {
     "data": {
      "text/plain": [
       "'작성중'"
      ]
     },
     "execution_count": 19,
     "metadata": {},
     "output_type": "execute_result"
    }
   ],
   "source": [
    "b=open('test01.txt','r')\n",
    "msg=b.read()\n",
    "b.close()\n",
    "msg"
   ]
  },
  {
   "cell_type": "code",
   "execution_count": 26,
   "metadata": {},
   "outputs": [],
   "source": [
    "c=open('test03.txt','w',encoding='utf8')\n",
    "c.write('이번에는 글자 안깨짐')\n",
    "c.close()"
   ]
  },
  {
   "cell_type": "code",
   "execution_count": 28,
   "metadata": {},
   "outputs": [
    {
     "data": {
      "text/plain": [
       "'이번에는 글자 안깨짐'"
      ]
     },
     "execution_count": 28,
     "metadata": {},
     "output_type": "execute_result"
    }
   ],
   "source": [
    "d=open('test03.txt','r',encoding='utf8')\n",
    "msg=d.read()\n",
    "d.close()\n",
    "msg"
   ]
  },
  {
   "cell_type": "code",
   "execution_count": 44,
   "metadata": {},
   "outputs": [],
   "source": [
    "#auto close\n",
    "with open('test04.txt','w',encoding='utf8') as h:\n",
    "    h.write('abcdefg\\n')\n",
    "    h.write('12345\\n')\n",
    "    h.write('@#$%')"
   ]
  },
  {
   "cell_type": "code",
   "execution_count": 49,
   "metadata": {},
   "outputs": [
    {
     "name": "stdout",
     "output_type": "stream",
     "text": [
      "abcdefg\n",
      "12345\n",
      "@#$%"
     ]
    }
   ],
   "source": [
    "with open('test04.txt','r',encoding='utf8') as k:\n",
    "    # msg=k.readline() \n",
    "    # while msg :\n",
    "    while msg:=k.readline() :\n",
    "        print(msg,end=\"\")"
   ]
  },
  {
   "cell_type": "code",
   "execution_count": 50,
   "metadata": {},
   "outputs": [
    {
     "data": {
      "text/plain": [
       "['abcdefg\\n', '12345\\n', '@#$%']"
      ]
     },
     "execution_count": 50,
     "metadata": {},
     "output_type": "execute_result"
    }
   ],
   "source": [
    "with open('test04.txt','r',encoding='utf8') as m:\n",
    "    result=m.readlines()\n",
    "result"
   ]
  },
  {
   "cell_type": "code",
   "execution_count": 60,
   "metadata": {},
   "outputs": [],
   "source": [
    "with open('test05.txt','w',encoding='utf8') as s:\n",
    "    # s.writelines(['item1','item2','item3','item4'])\n",
    "    # s.writelines('range(1,100)')\n",
    "    s.write(str(85))\n",
    "    s.write('\\n')\n",
    "    s.write(str(75))\n",
    "    s.write('\\n')\n",
    "    s.write(str(57))\n",
    "    s.write('\\n')\n",
    "    s.write(str(65))\n",
    "    s.write('\\n')\n",
    "    s.write(str(91))\n",
    "    s.write('\\n')"
   ]
  },
  {
   "cell_type": "code",
   "execution_count": 62,
   "metadata": {},
   "outputs": [],
   "source": [
    "with (\n",
    "    open('test06.txt','w',encoding=\"utf8\") as a,\n",
    "    open('text07.txt','w',encoding=\"utf8\") as b\n",
    "      ):\n",
    "    a.write(\"hello\")\n",
    "    b.write(\"world\")\n"
   ]
  },
  {
   "cell_type": "code",
   "execution_count": 68,
   "metadata": {},
   "outputs": [
    {
     "name": "stdout",
     "output_type": "stream",
     "text": [
      "85\n",
      "\n",
      "75\n",
      "\n",
      "57\n",
      "\n",
      "65\n",
      "\n",
      "91\n",
      "\n"
     ]
    }
   ],
   "source": [
    "with open('test05.txt','r',encoding='utf8') as file:\n",
    "    # for line in file:\n",
    "    #     print(line.strip('\\n'))\n",
    "    while msg:=file.readline():\n",
    "        print(msg)"
   ]
  },
  {
   "cell_type": "code",
   "execution_count": 77,
   "metadata": {},
   "outputs": [
    {
     "name": "stdout",
     "output_type": "stream",
     "text": [
      "b'abcd'\n",
      "b'abcd'\n"
     ]
    }
   ],
   "source": [
    "print(\"abcd\".encode('utf8'))\n",
    "print(b\"abcd\")"
   ]
  },
  {
   "cell_type": "code",
   "execution_count": 81,
   "metadata": {},
   "outputs": [],
   "source": [
    "with open('text.bin','wb') as a:\n",
    "    a.write(b\"a\")"
   ]
  },
  {
   "cell_type": "code",
   "execution_count": 84,
   "metadata": {},
   "outputs": [],
   "source": [
    "with (open('img1.png','rb') as b,\n",
    "      open('copy.png','wb') as c\n",
    "      ):\n",
    "    c.write(b.read())"
   ]
  },
  {
   "cell_type": "code",
   "execution_count": 86,
   "metadata": {},
   "outputs": [],
   "source": [
    "import pickle as p"
   ]
  },
  {
   "cell_type": "code",
   "execution_count": 87,
   "metadata": {},
   "outputs": [],
   "source": [
    "var1=1234\n",
    "var2=3.14\n",
    "var3=True\n",
    "var4=\"hello world\"\n",
    "var5=[\"item1\",'item2','item3']\n",
    "\n",
    "with open('object.bin','wb') as d:\n",
    "    p.dump(var1,file=d)\n",
    "    p.dump(var2,file=d)\n",
    "    p.dump(var3,file=d)\n",
    "    p.dump(var4,file=d)\n",
    "    p.dump(var5,file=d)\n"
   ]
  },
  {
   "cell_type": "code",
   "execution_count": 90,
   "metadata": {},
   "outputs": [
    {
     "name": "stdout",
     "output_type": "stream",
     "text": [
      "<class 'int'> 1234\n",
      "<class 'float'> 3.14\n",
      "<class 'bool'> True\n",
      "<class 'str'> hello world\n",
      "<class 'list'> ['item1', 'item2', 'item3']\n"
     ]
    }
   ],
   "source": [
    "result=[]\n",
    "with open('object.bin','rb') as d:\n",
    "    result.append(p.load(d))\n",
    "    result.append(p.load(d))\n",
    "    result.append(p.load(d))\n",
    "    result.append(p.load(d))\n",
    "    result.append(p.load(d))\n",
    "for ele in result:\n",
    "    print(type(ele),ele)"
   ]
  },
  {
   "cell_type": "markdown",
   "metadata": {},
   "source": []
  }
 ],
 "metadata": {
  "kernelspec": {
   "display_name": "Python 3",
   "language": "python",
   "name": "python3"
  },
  "language_info": {
   "codemirror_mode": {
    "name": "ipython",
    "version": 3
   },
   "file_extension": ".py",
   "mimetype": "text/x-python",
   "name": "python",
   "nbconvert_exporter": "python",
   "pygments_lexer": "ipython3",
   "version": "3.11.9"
  }
 },
 "nbformat": 4,
 "nbformat_minor": 2
}
