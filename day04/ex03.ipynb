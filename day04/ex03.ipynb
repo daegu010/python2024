{
 "cells": [
  {
   "cell_type": "code",
   "execution_count": 25,
   "metadata": {},
   "outputs": [
    {
     "name": "stdout",
     "output_type": "stream",
     "text": [
      "하고싶은일~~~~~ abcd {34}\n"
     ]
    }
   ],
   "source": [
    "# 함수 - 하고자하는일 , 기능\n",
    "# 함수명 규칙은 변수명 동일\n",
    "# 의의 - 반복\n",
    "\n",
    "def 함수명(매개변수1,매개변수2):    # 매개변수는 지역변수로존재\n",
    "    print(\"하고싶은일~~~~~\",매개변수1,매개변수2)\n",
    "    return\n",
    "\n",
    "함수명(\"abcd\",{34})\n"
   ]
  },
  {
   "cell_type": "code",
   "execution_count": 28,
   "metadata": {},
   "outputs": [
    {
     "ename": "NameError",
     "evalue": "name 'x' is not defined",
     "output_type": "error",
     "traceback": [
      "\u001b[1;31m---------------------------------------------------------------------------\u001b[0m",
      "\u001b[1;31mNameError\u001b[0m                                 Traceback (most recent call last)",
      "Cell \u001b[1;32mIn[28], line 1\u001b[0m\n\u001b[1;32m----> 1\u001b[0m \u001b[38;5;28;01mdel\u001b[39;00m \u001b[43mx\u001b[49m\n",
      "\u001b[1;31mNameError\u001b[0m: name 'x' is not defined"
     ]
    }
   ],
   "source": [
    "del x"
   ]
  },
  {
   "cell_type": "code",
   "execution_count": 30,
   "metadata": {},
   "outputs": [
    {
     "name": "stdout",
     "output_type": "stream",
     "text": [
      "2 x 1 = 2\n",
      "2 x 2 = 4\n",
      "2 x 3 = 6\n",
      "2 x 4 = 8\n"
     ]
    }
   ],
   "source": [
    "def gugu(x,y):\n",
    "    print(f\"{x} x {y} = {x*y}\")\n",
    "    return\n",
    "gugu(2,1)\n",
    "gugu(2,2)\n",
    "gugu(2,3)\n",
    "gugu(2,4)\n",
    "\n"
   ]
  },
  {
   "cell_type": "code",
   "execution_count": 39,
   "metadata": {},
   "outputs": [
    {
     "name": "stdout",
     "output_type": "stream",
     "text": [
      "2x1=2\n",
      "2x2=4\n",
      "4\n"
     ]
    }
   ],
   "source": [
    "# 함수안에서 선언된 변수는 지역변수\n",
    "# 지역변수와 전역변수가 함께 있으면 지역변수가 우선순위\n",
    "x=3\n",
    "z=1234\n",
    "def gugu(x,y):\n",
    "    global z    # 이 함수코드내에서 z변수는 전역에 z다\n",
    "    z=x*y\n",
    "    return z\n",
    "a,b=2,1\n",
    "result=gugu(a,b)\n",
    "print(f\"{a}x{b}={result}\")\n",
    "b+=1\n",
    "result=gugu(a,b)\n",
    "print(f\"{a}x{b}={result}\")\n",
    "b+=1\n",
    "print(z)"
   ]
  },
  {
   "cell_type": "code",
   "execution_count": 44,
   "metadata": {},
   "outputs": [
    {
     "name": "stdout",
     "output_type": "stream",
     "text": [
      "hello 1234 3.14\n"
     ]
    }
   ],
   "source": [
    "def func1():\n",
    "    return (\"hello\",1234,3.14)\n",
    "\n",
    "x,y,z=func1()\n",
    "print(x,y,z)"
   ]
  },
  {
   "cell_type": "code",
   "execution_count": 45,
   "metadata": {},
   "outputs": [
    {
     "name": "stdout",
     "output_type": "stream",
     "text": [
      "None\n"
     ]
    }
   ],
   "source": [
    "def func2():\n",
    "    return\n",
    "z=func2()\n",
    "print(z)"
   ]
  },
  {
   "cell_type": "code",
   "execution_count": 57,
   "metadata": {},
   "outputs": [
    {
     "name": "stdout",
     "output_type": "stream",
     "text": [
      "1 ()\n",
      "1 (2,)\n",
      "1 (2, 3)\n"
     ]
    }
   ],
   "source": [
    "def func3(a,*b):\n",
    "    print(a,b)\n",
    "\n",
    "# func3()\n",
    "func3(1)\n",
    "func3(1,2)\n",
    "func3(1,2,3)"
   ]
  },
  {
   "cell_type": "code",
   "execution_count": 61,
   "metadata": {},
   "outputs": [
    {
     "name": "stdout",
     "output_type": "stream",
     "text": [
      "첫번째 두번째\n",
      "두번째 첫번째\n"
     ]
    }
   ],
   "source": [
    "def func4(a,b):\n",
    "    print(a,b)\n",
    "\n",
    "func4(\"첫번째\",\"두번째\")\n",
    "func4(b=\"첫번째\",a=\"두번째\")"
   ]
  },
  {
   "cell_type": "code",
   "execution_count": 76,
   "metadata": {},
   "outputs": [
    {
     "name": "stdout",
     "output_type": "stream",
     "text": [
      "3.14 {}\n",
      "3.14 {'b': '첫번째', 'a': '두번째'}\n",
      "3.14 {'key1': 'val2'}\n"
     ]
    }
   ],
   "source": [
    "def func5(d,**c):\n",
    "    print(d,c)\n",
    "\n",
    "func5(3.14)\n",
    "func5(3.14,b=\"첫번째\",a=\"두번째\")\n",
    "func5(3.14,**{\"key1\":\"val2\"})\n"
   ]
  },
  {
   "cell_type": "code",
   "execution_count": 80,
   "metadata": {},
   "outputs": [
    {
     "name": "stdout",
     "output_type": "stream",
     "text": [
      "1 () {}\n",
      "1 (2,) {}\n",
      "1 (2, 3) {}\n",
      "1 (2, 3) {}\n",
      "1 (2, 3) {'key1': 'val1'}\n"
     ]
    }
   ],
   "source": [
    "def func6(a,*b,**c):\n",
    "    print(a,b,c)\n",
    "\n",
    "func6(1)\n",
    "func6(1,2)\n",
    "func6(1,2,3)\n",
    "func6(1,*[2,3])\n",
    "func6(1,2,3,key1='val1')"
   ]
  },
  {
   "cell_type": "code",
   "execution_count": 91,
   "metadata": {},
   "outputs": [
    {
     "name": "stdout",
     "output_type": "stream",
     "text": [
      "1 2 3 () {}\n",
      "1234 기본2 기본3 () {}\n"
     ]
    }
   ],
   "source": [
    "def func7(a,b=\"기본2\",c=\"기본3\",*arg,**kwarg):\n",
    "    print(a,b,c,arg,kwarg)\n",
    "func7(1,2,3)\n",
    "func7(1234)"
   ]
  },
  {
   "cell_type": "code",
   "execution_count": 95,
   "metadata": {},
   "outputs": [
    {
     "name": "stdout",
     "output_type": "stream",
     "text": [
      "ITEM1\n",
      "ITEM2\n",
      "ITEM3\n"
     ]
    }
   ],
   "source": [
    "def func8(a):\n",
    "    a=a.upper()\n",
    "    return a\n",
    "\n",
    "a=['item1','item2','item3']\n",
    "\n",
    "for i in map(func8,a):\n",
    "    print(i)"
   ]
  },
  {
   "cell_type": "code",
   "execution_count": 98,
   "metadata": {},
   "outputs": [
    {
     "data": {
      "text/plain": [
       "[2, 4, 6, 8]"
      ]
     },
     "execution_count": 98,
     "metadata": {},
     "output_type": "execute_result"
    }
   ],
   "source": [
    "def func9(a):\n",
    "    return a*2\n",
    "[ i for i in map(func9,[1,2,3,4])]"
   ]
  },
  {
   "cell_type": "code",
   "execution_count": 99,
   "metadata": {},
   "outputs": [
    {
     "data": {
      "text/plain": [
       "[1, 2, 3]"
      ]
     },
     "execution_count": 99,
     "metadata": {},
     "output_type": "execute_result"
    }
   ],
   "source": [
    "[i for i in map(len,['a','ab','abc'])]"
   ]
  },
  {
   "cell_type": "code",
   "execution_count": 107,
   "metadata": {},
   "outputs": [
    {
     "data": {
      "text/plain": [
       "[1, 2, 3, 4, 5, 6]"
      ]
     },
     "execution_count": 107,
     "metadata": {},
     "output_type": "execute_result"
    }
   ],
   "source": [
    "def func10(a):\n",
    "    return \" \"\n",
    "a=[1,2,3,4,5,6]\n",
    "list(filter(func10,a))"
   ]
  },
  {
   "cell_type": "code",
   "execution_count": 112,
   "metadata": {},
   "outputs": [
    {
     "name": "stdout",
     "output_type": "stream",
     "text": [
      "1 2\n",
      "2 3\n",
      "6 4\n",
      "24 5\n",
      "120\n"
     ]
    }
   ],
   "source": [
    "import functools\n",
    "\n",
    "def func11(a,b):\n",
    "    print(a,b)\n",
    "    return a*b\n",
    "\n",
    "a=[1,2,3,4,5]\n",
    "\n",
    "print(functools.reduce(func11,a))\n"
   ]
  },
  {
   "cell_type": "code",
   "execution_count": 121,
   "metadata": {},
   "outputs": [
    {
     "ename": "TypeError",
     "evalue": "func13() missing 1 required positional argument: 'c'",
     "output_type": "error",
     "traceback": [
      "\u001b[1;31m---------------------------------------------------------------------------\u001b[0m",
      "\u001b[1;31mTypeError\u001b[0m                                 Traceback (most recent call last)",
      "Cell \u001b[1;32mIn[121], line 14\u001b[0m\n\u001b[0;32m     11\u001b[0m     \u001b[38;5;28mprint\u001b[39m(c)\n\u001b[0;32m     12\u001b[0m     \u001b[38;5;28;01mreturn\u001b[39;00m a\u001b[38;5;241m+\u001b[39mb\n\u001b[1;32m---> 14\u001b[0m \u001b[43mfunctools\u001b[49m\u001b[38;5;241;43m.\u001b[39;49m\u001b[43mreduce\u001b[49m\u001b[43m(\u001b[49m\u001b[43mfunc13\u001b[49m\u001b[43m,\u001b[49m\u001b[38;5;28;43mmap\u001b[39;49m\u001b[43m(\u001b[49m\u001b[43mfunc12\u001b[49m\u001b[43m,\u001b[49m\u001b[43mdata\u001b[49m\u001b[43m)\u001b[49m\u001b[43m)\u001b[49m\u001b[38;5;241m/\u001b[39m\u001b[38;5;28mlen\u001b[39m(data)\n",
      "\u001b[1;31mTypeError\u001b[0m: func13() missing 1 required positional argument: 'c'"
     ]
    }
   ],
   "source": [
    "with open('test05.txt','r',encoding='utf8') as file:\n",
    "    data=file.readlines()\n",
    "\n",
    "def func12(a):\n",
    "    a=a.replace('\\r','')\n",
    "    a=a.replace('\\n','')\n",
    "    if not a: a='0'\n",
    "    return int(a)\n",
    "\n",
    "def func13(a,b):\n",
    "    return a+b\n",
    "\n",
    "functools.reduce(func13,map(func12,data))/len(data)\n"
   ]
  },
  {
   "cell_type": "code",
   "execution_count": 142,
   "metadata": {},
   "outputs": [
    {
     "name": "stdout",
     "output_type": "stream",
     "text": [
      "기능1 수행 12\n",
      "True\n",
      "True\n",
      "False\n"
     ]
    }
   ],
   "source": [
    "# 객체를 생성하기위해서는 클래스가 필요\n",
    "# 클래스는 기능과 속성을 지님\n",
    "# 기능 - 메서드 <-함수유사\n",
    "# 속성 - self.변수 <- 객체 고유값\n",
    "# 클래스명의 규칙 <-변수명명명규칙과 일치,단 첫글자를 대문자\n",
    "class 클래스명:\n",
    "    def __init__(self,me):  # 생성자 객체 생성시점에 하고자하는 일\n",
    "        self.me=me          # 속성정의\n",
    "\n",
    "\n",
    "    def 기능1(self):\n",
    "        print(\"기능1 수행\",a)\n",
    "\n",
    "a=클래스명(\"나\")\n",
    "a.기능1()\n",
    "# print(a.me)\n",
    "\n",
    "b=클래스명(\"나\")\n",
    "c=a\n",
    "print(a.me==c.me)\n",
    "print(a.me==b.me)\n",
    "print(a.me is b.me)\n"
   ]
  },
  {
   "cell_type": "code",
   "execution_count": 128,
   "metadata": {},
   "outputs": [
    {
     "data": {
      "text/plain": [
       "function"
      ]
     },
     "execution_count": 128,
     "metadata": {},
     "output_type": "execute_result"
    }
   ],
   "source": [
    "type(func1)"
   ]
  },
  {
   "cell_type": "code",
   "execution_count": 130,
   "metadata": {},
   "outputs": [
    {
     "data": {
      "text/plain": [
       "__main__.클래스명"
      ]
     },
     "execution_count": 130,
     "metadata": {},
     "output_type": "execute_result"
    }
   ],
   "source": [
    "type(a)"
   ]
  },
  {
   "cell_type": "code",
   "execution_count": 149,
   "metadata": {},
   "outputs": [
    {
     "name": "stdout",
     "output_type": "stream",
     "text": [
      "나는 1살 홍길동입니다\n",
      "나는 여살 홍길자입니다\n",
      "나는 1살 홍길자입니다\n"
     ]
    }
   ],
   "source": [
    "class Person:\n",
    "    def __init__(self,name,gender,age=1):\n",
    "        self.name=name\n",
    "        # if age:self.age=age\n",
    "        # else : self.age=1\n",
    "        self.age=age\n",
    "        self.gender=gender\n",
    "    def say1(self):\n",
    "        print(f\"나는 {self.age}살 {self.name}입니다\")\n",
    "    def setAge(self,age):\n",
    "        self.age=age\n",
    "    \n",
    "\n",
    "p1=Person('홍길동','남')\n",
    "p1.say1()\n",
    "\n",
    "p2=Person('홍길자',2,'여')\n",
    "p2.say1()\n",
    "p2.setAge(1)\n",
    "p2.say1()"
   ]
  },
  {
   "cell_type": "code",
   "execution_count": null,
   "metadata": {},
   "outputs": [],
   "source": []
  }
 ],
 "metadata": {
  "kernelspec": {
   "display_name": "Python 3",
   "language": "python",
   "name": "python3"
  },
  "language_info": {
   "codemirror_mode": {
    "name": "ipython",
    "version": 3
   },
   "file_extension": ".py",
   "mimetype": "text/x-python",
   "name": "python",
   "nbconvert_exporter": "python",
   "pygments_lexer": "ipython3",
   "version": "3.11.9"
  }
 },
 "nbformat": 4,
 "nbformat_minor": 2
}
